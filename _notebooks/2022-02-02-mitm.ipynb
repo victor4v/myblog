{
 "cells": [
  {
   "cell_type": "markdown",
   "metadata": {},
   "source": [
    "### Fetching data \n",
    "\n",
    "In order to generate new silk squares, like those designed by Hermès, we will need data, preferably in the form of photos, of the models created by the fashion house. After a little research on the web, we find different sources of data. There are blogs of brand enthusiasts, listing images of squares from various collections. On the Hermès website you can find very good quality images of the latest collections. We will therefore try, first of all, to extract from these different sources what will be the raw material to provide to our algorithm.\n",
    "\n",
    "The art of extracting data from websites is called data scraping or web scraping. The legal framework for this practice is a bit of a gray area. You must always be careful not to violate the terms of use of the applications or website on which you want to retrieve this data. In addition, this practice sometimes consists of generating multiple requests that may affect the proper functioning of the site or application in question. It is therefore a question of knowing what one does not to be outside the law.\n"
   ]
  },
  {
   "cell_type": "markdown",
   "metadata": {},
   "source": [
    "### Summary\n",
    "* <a href='#Retrieve_images_from_Hermes'>1.1 Retrieve images from the Hermès site</a>\n",
    "* <a href='#Retrieve_requests_with_Mitmproxy'>1.2 Retrieve requests to the Hermès website with Mitmproxy</a>   \n",
    "* <a href='#Building_image_urls'>1.3 Building image urls : understanding the pattern</a> \n",
    "* <a href='#Python_code'>1.4 Python code</a> "
   ]
  },
  {
   "cell_type": "markdown",
   "metadata": {},
   "source": [
    "<a id='Retrieve_images_from_Hermes'></a>"
   ]
  },
  {
   "cell_type": "markdown",
   "metadata": {},
   "source": [
    "#### Retrieve images from the Hermès site.\n",
    "<p>In order to retrieve the images of the latest collections on the Hermès site, we will have to take an interest in the way their site works. The best way is therefore to go to the page dedicated to the squares and to walk around to see what is going on. </p>\n",
    "<p>We see that the content of the site loads dynamically. When scrolling to display more products, the site loads new products as they go. It displays products in packages of 40 items.</p>\n",
    "\n",
    "\n",
    "![SegmentLocal](Images/hermes_site.gif \"segment\")\n",
    "\n",
    "<p>For those who are already familiar with web scraping, you know it's a bit of a hassle. We won't be able to make a simple request to the squares page, and parse the source code to retrieve the links of all the images at once.</p> \n",
    "<p>One way to do this would be to use a program that controls our browser to scroll and load the different items automatically. Unfortunately (or not) the site is quite good at detecting this kind of program and will not let us do so.</p>\n",
    "<p>Therefore, we are going to see what is happening in the back kitchen of the site. We want to try to understand the requests sent to the server when, as a user of the site, we scroll to load more items. To do this we will use a tool called mitmproxy. This is a software positioned between our computer and the web server to which we address ourselves when we visit the site, and which will collect the requests that we send to the site, as well as the responses provided by the server hosting the site.</p>\n",
    "\n",
    " This article is not intended to explain in detail the operation of mitmproxy, or its installation. If you wish to learn more about this tool, I invite you to consult [their documentation](https://docs.mitmproxy.org/stable/). For other funny examples of uses, you can check out these resources :\n",
    "- [reverse engeniering a private api from couchsurfing website w/ mitmproxy](https://www.toptal.com/back-end/reverse-engineering-the-private-api-hacking-your-couch). \n",
    "- [reverse engeniering your bookstore app w/ mitmproxy](https://www.youtube.com/watch?v=LbPKgknr8m8). \n",
    "\n",
    "\n"
   ]
  },
  {
   "cell_type": "markdown",
   "metadata": {},
   "source": [
    "<a id='Retrieve_requests_with_Mitmproxy'></a>"
   ]
  },
  {
   "cell_type": "markdown",
   "metadata": {},
   "source": [
    "#### Retrieve requests to the Hermès website with Mitmproxy\n",
    "\n",
    "<p>Once mitmproxy is configured on our computer, we will repeat the experience of browsing the site. This time we will see in real time the requests made by our browser, as well as the responses from their server. We see that there are a lot of requests, and we will have to inspect them one by one to find what we are looking for. Namely, how is formulated the request that tells the site to load products on the page.</p>\n",
    "\n",
    "![SegmentLocal](Images/flow.gif \"segment\")\n",
    "\n",
    "<p>It's when you try to load more elements than those displayed on the base page that you find what you were looking for. A request is sent to a kind of private API which communicates with a database. \n",
    "<img src=\"Images/mitm_flow.png\" alt=\"Drawing\" style=\"width: 600px;\"/>\n",
    "\n",
    "\n",
    "<p>When we look more closely at the various query parameters. Pagesize is the number of items to display. Offset, is the number of elements from which it is necessary to start to count the elements to be displayed, and a Sort parameter which indicates the way in which the elements are displayed (here by relevance).</p>\n",
    "<img src=\"Images/mitm_request.png\" alt=\"Drawing\" style=\"width: 600px;\"/>\n",
    "\n",
    "<p>What is even more interesting is the format of the response. This is a nice json file with the items and details like the page urls for each of them.</p>\n",
    "<img src=\"Images/mitm_response2.png\" alt=\"Drawing\" style=\"width: 600px;\"/>"
   ]
  },
  {
   "cell_type": "markdown",
   "metadata": {},
   "source": [
    "<a id='Building_image_urls'></a>"
   ]
  },
  {
   "cell_type": "markdown",
   "metadata": {},
   "source": [
    "### Building image urls: understanding the pattern\n",
    "\n",
    "<p>Each image displayed on the site is accessible as an object via a url. When the site loads, it calls these urls to display the images. To understand how these urls are constructed, we will inspect a few product pages. By right clicking on the image you can get the link to the image. After observing a few urls, we find the following pattern: base_url+1700...</p>\n",
    "\n",
    "<p>What's great is that all the information we need to rebuild these urls is all present in the json that we retrieved in the previous step.</p>\n",
    "\n",
    "So to achieve our goals we need:\n",
    "- Formulate the 5 requests to the \"http://\" url by varying the offset parameter to retrieve the information of the 200 products (5*40 = 200). - Once the json files have been saved, the data they contain is processed to build the urls of the images of each of the products.\n",
    "- We then send requests to these image urls and record the responses."
   ]
  },
  {
   "cell_type": "markdown",
   "metadata": {},
   "source": [
    "<a id='Python_code'></a>"
   ]
  },
  {
   "cell_type": "markdown",
   "metadata": {},
   "source": [
    "### Python code\n",
    "\n",
    "Let's get our hands on the code a bit. With mitmproxy, we can retrieve the request that interests us in the form of curl. We convert this curl request in python thanks to [this great tool](https://curlconverter.com/#). Which give :"
   ]
  },
  {
   "cell_type": "code",
   "execution_count": 15,
   "metadata": {},
   "outputs": [],
   "source": [
    "import requests\n",
    "\n",
    "cookies = {\n",
    "    'datadome': '6dGCGJi7OY-QVuTMNf_Va-ihruAS4fT~-prPt53aTUtSMJ6e2jTRdQI9rOCLxC9775DR1GQRrpLUs~67PZ000nS-WYlYuszR-qNvBG9kGLXYs.yI6CUPOdCrifnldDu',\n",
    "    'ECOM_SESS': 'fcj2587fp2kfmusvhj08lbfbc5',\n",
    "    'correlation_id': '1808b1db587ebab640cced310efcb6dfdd899ab3eb0c44ea08e3f11ab65441ee',\n",
    "    '_gcl_au': '1.1.198033202.1643632040',\n",
    "    '_ga': 'GA1.2.706534774.1643632042',\n",
    "    '_gid': 'GA1.2.616364715.1643632042',\n",
    "    'GeoFilteringBanner': '1',\n",
    "    '_uetsid': '241e11c0829111eca0f5e908623d4c81',\n",
    "    '_uetvid': '241e4b10829111ecb2360bf65e216a0f',\n",
    "    '_ga_Y862HCHCQ7': 'GS1.1.1643632042.1.0.1643632045.0',\n",
    "    '_cs_c': '1',\n",
    "    '_cs_id': '116f9e30-3c8e-acbc-ecf4-8ef80963d888.1643632043.1.1643632043.1643632043.1.1677796043154',\n",
    "    'ABTasty': 'uid=hs12gaez8thx8txq&fst=1643632043261&pst=-1&cst=1643632043261&ns=1&pvt=1&pvis=1&th=',\n",
    "}\n",
    "\n",
    "headers = {\n",
    "    'User-Agent': 'Mozilla/5.0 (Macintosh; Intel Mac OS X 10.14; rv:96.0) Gecko/20100101 Firefox/96.0',\n",
    "    'Accept': 'application/json, text/plain, */*',\n",
    "    'Accept-Language': 'fr,fr-FR;q=0.8,en-US;q=0.5,en;q=0.3',\n",
    "    'Origin': 'https://www.hermes.com',\n",
    "    'Connection': 'keep-alive',\n",
    "    'Referer': 'https://www.hermes.com/',\n",
    "    'Sec-Fetch-Dest': 'empty',\n",
    "    'Sec-Fetch-Mode': 'cors',\n",
    "    'Sec-Fetch-Site': 'same-site',\n",
    "}\n",
    "\n",
    "offset = 40\n",
    "\n",
    "params = (\n",
    "    ('locale', 'fr_fr'),\n",
    "    ('category', 'WOMENSILKSCARVESETC'),\n",
    "    ('sort', 'relevance'),\n",
    "    ('offset', offset),\n",
    "    ('pagesize', '40'),\n",
    ")\n",
    "\n",
    "response = requests.get('https://bck.hermes.com/products', headers=headers, params=params, cookies=cookies) "
   ]
  },
  {
   "cell_type": "markdown",
   "metadata": {},
   "source": [
    "When we make our request, the server returns a json file. The first item in the list of items in this file is displayed."
   ]
  },
  {
   "cell_type": "code",
   "execution_count": 29,
   "metadata": {},
   "outputs": [
    {
     "name": "stdout",
     "output_type": "stream",
     "text": [
      "{'sku': 'H892813S 16', 'title': 'Gavroche 45 Della Cavalleria', 'productCode': 'S102', 'perso_product_type': 'silk', 'assets': [{'url': '//assets.hermes.com/is/image/hermesproduct/892813S%2016_flat_1?a=a&size=3000,3000&extend=300,300,300,300&align=0,0', 'type': 'image', 'source': 'scene7'}, {'url': '//assets.hermes.com/is/image/hermesproduct/892813S%2016_worn_2?a=a&size=3000,3000&extend=0,0,0,0&align=0,0', 'type': 'image', 'source': 'scene7'}], 'moreColors': False, 'size': 'SANS_TAILLE', 'avgColor': 'rose', 'departmentCode': 'S', 'familyCode': 'S10', 'divisionCode': '04', 'price': 190, 'url': '/product/gavroche-45-della-cavalleria-H892813Sv16', 'slug': 'gavroche-45-della-cavalleria', 'hasStock': True, 'hasStockRetail': False, 'hasStockOrHasStockRetail': False, 'stock': {'ecom': True, 'retail': False}, 'personalize': True}\n"
     ]
    }
   ],
   "source": [
    "json_response = response.json()\n",
    "items = json_response['products']['items']\n",
    "print(items[0])"
   ]
  },
  {
   "cell_type": "code",
   "execution_count": null,
   "metadata": {},
   "outputs": [],
   "source": [
    "urls = [] \n",
    "\n",
    "base_url = 'https://assets.hermes.com/is/image/hermesproduct/' \n",
    "suffix = '-flat-1-300-0-1700-1700-q99_b.jpg'\n",
    "\n",
    "for item in items:\n",
    "    slug = item['slug']\n",
    "    sku = item['sku'][1:]\n",
    "    url = base_url + slug + '--' + sku + suffix\n",
    "    urls.append(url)"
   ]
  },
  {
   "cell_type": "code",
   "execution_count": 30,
   "metadata": {},
   "outputs": [
    {
     "name": "stdout",
     "output_type": "stream",
     "text": [
      "https://assets.hermes.com/is/image/hermesproduct/gavroche-45-della-cavalleria--892813S 16-flat-1-300-0-1700-1700-q99_b.jpg\n"
     ]
    }
   ],
   "source": [
    "print(urls[0])"
   ]
  },
  {
   "cell_type": "code",
   "execution_count": 33,
   "metadata": {},
   "outputs": [
    {
     "name": "stdout",
     "output_type": "stream",
     "text": [
      "<_io.BufferedWriter name='image.jpeg'>\n"
     ]
    }
   ],
   "source": [
    "image_url = urls[0]\n",
    "response = requests.get(url=image_url, headers=headers, cookies=cookies)\n",
    "bytes_image = response.content\n",
    "jpeg_img = bytearray(bytes_image)\n",
    "f = open('image.jpeg', 'wb')\n",
    "f.write(jpeg_img)\n",
    "f.close()\n",
    "\n"
   ]
  },
  {
   "cell_type": "code",
   "execution_count": null,
   "metadata": {},
   "outputs": [],
   "source": []
  }
 ],
 "metadata": {
  "interpreter": {
   "hash": "3785a633635558c05a6b1aca16a69f0ae054170ee828414f8ee7977178feb401"
  },
  "kernelspec": {
   "display_name": "Python 3.8.8 64-bit ('base': conda)",
   "language": "python",
   "name": "python3"
  },
  "language_info": {
   "codemirror_mode": {
    "name": "ipython",
    "version": 3
   },
   "file_extension": ".py",
   "mimetype": "text/x-python",
   "name": "python",
   "nbconvert_exporter": "python",
   "pygments_lexer": "ipython3",
   "version": "3.8.8"
  },
  "orig_nbformat": 4
 },
 "nbformat": 4,
 "nbformat_minor": 2
}
